{
 "cells": [
  {
   "cell_type": "code",
   "execution_count": 3,
   "metadata": {},
   "outputs": [
    {
     "name": "stdout",
     "output_type": "stream",
     "text": [
      "10\n",
      "0\n"
     ]
    }
   ],
   "source": [
    "## Execution of spell clashes\n",
    "gandalf = [10, 11, 13, 30, 22, 11, 10, 33, 22, 22]\n",
    "saruman = [23, 66, 12, 43, 12, 10, 44, 23, 12, 17]\n",
    "\n",
    "#ziplist=zip(gandalf, saruman)\n",
    "#print (tuple(ziplist))\n",
    "\n",
    "gandalf_wins = 0\n",
    "saruman_wins = 0\n",
    "\n",
    "i = 0\n",
    "j = 0\n",
    "\n",
    "for i in gandalf:\n",
    "    if i < (j in saruman): \n",
    "        saruman_wins +=1\n",
    "    elif i > (j in saruman):\n",
    "        gandalf_wins +=1\n",
    "    \n",
    "print (gandalf_wins)\n",
    "print (saruman_wins)\n"
   ]
  },
  {
   "cell_type": "code",
   "execution_count": null,
   "metadata": {},
   "outputs": [],
   "source": [
    "print('Hello')"
   ]
  },
  {
   "cell_type": "code",
   "execution_count": 10,
   "metadata": {},
   "outputs": [
    {
     "name": "stdout",
     "output_type": "stream",
     "text": [
      "(10, 0)\n",
      "(4, 1)\n",
      "(3, 5)\n",
      "(3, 4)\n",
      "(5, 1)\n",
      "(1, 5)\n",
      "(5, 8)\n",
      "(4, 6)\n",
      "(2, 3)\n",
      "[10, 3, -2, -1, 4, -4, -3, -2, -1]\n",
      "[10, 13, 11, 10, 14, 10, 7, 5, 4]\n"
     ]
    }
   ],
   "source": [
    "# 2. Assign a variable a list whose elements are the number of passengers in each stop: \n",
    "# Each item depends on the previous item in the list + in - out.\n",
    "\n",
    "stops = [(10, 0),(4, 1),(3, 5),(3, 4),(5, 1),(1, 5),(5, 8),(4, 6),(2, 3)]\n",
    "pp_bus_stop=[]\n",
    "\n",
    "for i in stops:\n",
    "    #i_in = i[0]\n",
    "    #i_out = i[1]\n",
    "    print(i)\n",
    "    pp_bus = +i[0] - i[1]\n",
    "    pp_bus_stop.append(pp_bus)\n",
    "\n",
    "import numpy as np\n",
    "print(pp_bus_stop)\n",
    "total = list(np.cumsum(pp_bus_stop))\n",
    "print (total)"
   ]
  },
  {
   "cell_type": "code",
   "execution_count": null,
   "metadata": {},
   "outputs": [],
   "source": []
  },
  {
   "cell_type": "code",
   "execution_count": null,
   "metadata": {},
   "outputs": [],
   "source": []
  },
  {
   "cell_type": "code",
   "execution_count": null,
   "metadata": {},
   "outputs": [],
   "source": []
  }
 ],
 "metadata": {
  "kernelspec": {
   "display_name": "Python 3",
   "language": "python",
   "name": "python3"
  }
 },
 "nbformat": 4,
 "nbformat_minor": 2
}
